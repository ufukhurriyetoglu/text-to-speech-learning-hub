{
  "cells": [
    {
      "cell_type": "markdown",
      "metadata": {
        "id": "K6SDxpDY6UVU"
      },
      "source": [
        "\n",
        "# Text-to-Speech with Tacotron2\n",
        "\n",
        "**Author**: [Yao-Yuan Yang](https://github.com/yangarbiter)_,\n",
        "[Moto Hira](moto@meta.com)_\n"
      ]
    },
    {
      "cell_type": "markdown",
      "metadata": {
        "id": "YAXIJBD66UVX"
      },
      "source": [
        "## Overview\n",
        "\n",
        "This tutorial shows how to build text-to-speech pipeline, using the\n",
        "pretrained Tacotron2 in torchaudio.\n",
        "\n",
        "The text-to-speech pipeline goes as follows:\n",
        "\n",
        "1. Text preprocessing\n",
        "\n",
        "   First, the input text is encoded into a list of symbols. In this\n",
        "   tutorial, we will use English characters and phonemes as the symbols.\n",
        "\n",
        "2. Spectrogram generation\n",
        "\n",
        "   From the encoded text, a spectrogram is generated. We use ``Tacotron2``\n",
        "   model for this.\n",
        "\n",
        "3. Time-domain conversion\n",
        "\n",
        "   The last step is converting the spectrogram into the waveform. The\n",
        "   process to generate speech from spectrogram is also called Vocoder.\n",
        "   In this tutorial, three different vocoders are used,\n",
        "   :py:class:`~torchaudio.models.WaveRNN`,\n",
        "   :py:class:`~torchaudio.transforms.GriffinLim`, and\n",
        "   [Nvidia's WaveGlow](https://pytorch.org/hub/nvidia_deeplearningexamples_tacotron2/)_.\n",
        "\n",
        "\n",
        "The following figure illustrates the whole process.\n",
        "\n",
        "<img src=\"https://download.pytorch.org/torchaudio/tutorial-assets/tacotron2_tts_pipeline.png\">\n",
        "\n",
        "All the related components are bundled in :py:class:`torchaudio.pipelines.Tacotron2TTSBundle`,\n",
        "but this tutorial will also cover the process under the hood.\n",
        "\n"
      ]
    },
    {
      "cell_type": "markdown",
      "metadata": {
        "id": "lrI3rMjo6UVY"
      },
      "source": [
        "## Preparation\n",
        "\n",
        "First, we install the necessary dependencies. In addition to\n",
        "``torchaudio``, ``DeepPhonemizer`` is required to perform phoneme-based\n",
        "encoding.\n",
        "\n",
        "\n"
      ]
    },
    {
      "cell_type": "code",
      "execution_count": null,
      "metadata": {
        "id": "ZUheFiPY6UVY"
      },
      "outputs": [],
      "source": [
        "%%bash\n",
        "pip3 install deep_phonemizer"
      ]
    },
    {
      "cell_type": "code",
      "execution_count": null,
      "metadata": {
        "id": "xccfFr3W6UVa"
      },
      "outputs": [],
      "source": [
        "import torch\n",
        "import torchaudio\n",
        "\n",
        "torch.random.manual_seed(0)\n",
        "device = \"cuda\" if torch.cuda.is_available() else \"cpu\"\n",
        "\n",
        "print(torch.__version__)\n",
        "print(torchaudio.__version__)\n",
        "print(device)"
      ]
    },
    {
      "cell_type": "code",
      "execution_count": null,
      "metadata": {
        "id": "h-3xMRt36UVa"
      },
      "outputs": [],
      "source": [
        "import IPython\n",
        "import matplotlib.pyplot as plt"
      ]
    },
    {
      "cell_type": "markdown",
      "metadata": {
        "id": "4nBuSllz6UVb"
      },
      "source": [
        "## Text Processing\n",
        "\n",
        "\n"
      ]
    },
    {
      "cell_type": "markdown",
      "metadata": {
        "id": "3hIhvS2i6UVb"
      },
      "source": [
        "### Character-based encoding\n",
        "\n",
        "In this section, we will go through how the character-based encoding\n",
        "works.\n",
        "\n",
        "Since the pre-trained Tacotron2 model expects specific set of symbol\n",
        "tables, the same functionalities available in ``torchaudio``. This\n",
        "section is more for the explanation of the basis of encoding.\n",
        "\n",
        "Firstly, we define the set of symbols. For example, we can use\n",
        "``'_-!\\'(),.:;? abcdefghijklmnopqrstuvwxyz'``. Then, we will map the\n",
        "each character of the input text into the index of the corresponding\n",
        "symbol in the table.\n",
        "\n",
        "The following is an example of such processing. In the example, symbols\n",
        "that are not in the table are ignored.\n",
        "\n",
        "\n"
      ]
    },
    {
      "cell_type": "code",
      "execution_count": null,
      "metadata": {
        "id": "r8wo32M36UVc"
      },
      "outputs": [],
      "source": [
        "symbols = \"_-!'(),.:;? abcdefghijklmnopqrstuvwxyz\"\n",
        "look_up = {s: i for i, s in enumerate(symbols)}\n",
        "symbols = set(symbols)\n",
        "\n",
        "\n",
        "def text_to_sequence(text):\n",
        "    text = text.lower()\n",
        "    return [look_up[s] for s in text if s in symbols]\n",
        "\n",
        "\n",
        "text = \"Hello world! Text to speech!\"\n",
        "print(text_to_sequence(text))"
      ]
    },
    {
      "cell_type": "markdown",
      "metadata": {
        "id": "jkgaqrAF6UVc"
      },
      "source": [
        "As mentioned in the above, the symbol table and indices must match\n",
        "what the pretrained Tacotron2 model expects. ``torchaudio`` provides the\n",
        "transform along with the pretrained model. For example, you can\n",
        "instantiate and use such transform as follow.\n",
        "\n",
        "\n"
      ]
    },
    {
      "cell_type": "code",
      "execution_count": null,
      "metadata": {
        "id": "KnlNi1n46UVd"
      },
      "outputs": [],
      "source": [
        "processor = torchaudio.pipelines.TACOTRON2_WAVERNN_CHAR_LJSPEECH.get_text_processor()\n",
        "\n",
        "text = \"Hello world! Text to speech!\"\n",
        "processed, lengths = processor(text)\n",
        "\n",
        "print(processed)\n",
        "print(lengths)"
      ]
    },
    {
      "cell_type": "markdown",
      "metadata": {
        "id": "toEZ4yUR6UVd"
      },
      "source": [
        "The ``processor`` object takes either a text or list of texts as inputs.\n",
        "When a list of texts are provided, the returned ``lengths`` variable\n",
        "represents the valid length of each processed tokens in the output\n",
        "batch.\n",
        "\n",
        "The intermediate representation can be retrieved as follow.\n",
        "\n",
        "\n"
      ]
    },
    {
      "cell_type": "code",
      "execution_count": null,
      "metadata": {
        "id": "lQkxgpIa6UVd"
      },
      "outputs": [],
      "source": [
        "print([processor.tokens[i] for i in processed[0, : lengths[0]]])"
      ]
    },
    {
      "cell_type": "markdown",
      "metadata": {
        "id": "LCVxkNG-6UVe"
      },
      "source": [
        "### Phoneme-based encoding\n",
        "\n",
        "Phoneme-based encoding is similar to character-based encoding, but it\n",
        "uses a symbol table based on phonemes and a G2P (Grapheme-to-Phoneme)\n",
        "model.\n",
        "\n",
        "The detail of the G2P model is out of scope of this tutorial, we will\n",
        "just look at what the conversion looks like.\n",
        "\n",
        "Similar to the case of character-based encoding, the encoding process is\n",
        "expected to match what a pretrained Tacotron2 model is trained on.\n",
        "``torchaudio`` has an interface to create the process.\n",
        "\n",
        "The following code illustrates how to make and use the process. Behind\n",
        "the scene, a G2P model is created using ``DeepPhonemizer`` package, and\n",
        "the pretrained weights published by the author of ``DeepPhonemizer`` is\n",
        "fetched.\n",
        "\n",
        "\n"
      ]
    },
    {
      "cell_type": "code",
      "execution_count": null,
      "metadata": {
        "id": "vmCRIOte6UVe"
      },
      "outputs": [],
      "source": [
        "bundle = torchaudio.pipelines.TACOTRON2_WAVERNN_PHONE_LJSPEECH\n",
        "\n",
        "processor = bundle.get_text_processor()\n",
        "\n",
        "text = \"Hello world! Text to speech!\"\n",
        "with torch.inference_mode():\n",
        "    processed, lengths = processor(text)\n",
        "\n",
        "print(processed)\n",
        "print(lengths)"
      ]
    },
    {
      "cell_type": "markdown",
      "metadata": {
        "id": "TzAndRg-6UVe"
      },
      "source": [
        "Notice that the encoded values are different from the example of\n",
        "character-based encoding.\n",
        "\n",
        "The intermediate representation looks like the following.\n",
        "\n",
        "\n"
      ]
    },
    {
      "cell_type": "code",
      "execution_count": null,
      "metadata": {
        "id": "eqskOcyK6UVe"
      },
      "outputs": [],
      "source": [
        "print([processor.tokens[i] for i in processed[0, : lengths[0]]])"
      ]
    },
    {
      "cell_type": "markdown",
      "metadata": {
        "id": "z5Wsa9j-6UVf"
      },
      "source": [
        "## Spectrogram Generation\n",
        "\n",
        "``Tacotron2`` is the model we use to generate spectrogram from the\n",
        "encoded text. For the detail of the model, please refer to [the\n",
        "paper](https://arxiv.org/abs/1712.05884)_.\n",
        "\n",
        "It is easy to instantiate a Tacotron2 model with pretrained weight,\n",
        "however, note that the input to Tacotron2 models need to be processed\n",
        "by the matching text processor.\n",
        "\n",
        ":py:class:`torchaudio.pipelines.Tacotron2TTSBundle` bundles the matching\n",
        "models and processors together so that it is easy to create the pipeline.\n",
        "\n",
        "For the available bundles, and its usage, please refer to\n",
        ":py:class:`~torchaudio.pipelines.Tacotron2TTSBundle`.\n",
        "\n",
        "\n"
      ]
    },
    {
      "cell_type": "code",
      "execution_count": null,
      "metadata": {
        "id": "7QHYQyb_6UVf"
      },
      "outputs": [],
      "source": [
        "bundle = torchaudio.pipelines.TACOTRON2_WAVERNN_PHONE_LJSPEECH\n",
        "processor = bundle.get_text_processor()\n",
        "tacotron2 = bundle.get_tacotron2().to(device)\n",
        "\n",
        "text = \"Hello world! Text to speech!\"\n",
        "\n",
        "with torch.inference_mode():\n",
        "    processed, lengths = processor(text)\n",
        "    processed = processed.to(device)\n",
        "    lengths = lengths.to(device)\n",
        "    spec, _, _ = tacotron2.infer(processed, lengths)\n",
        "\n",
        "\n",
        "_ = plt.imshow(spec[0].cpu().detach(), origin=\"lower\", aspect=\"auto\")"
      ]
    },
    {
      "cell_type": "markdown",
      "metadata": {
        "id": "MgQe0hYW6UVf"
      },
      "source": [
        "Note that ``Tacotron2.infer`` method perfoms multinomial sampling,\n",
        "therefor, the process of generating the spectrogram incurs randomness.\n",
        "\n",
        "\n"
      ]
    },
    {
      "cell_type": "code",
      "execution_count": null,
      "metadata": {
        "id": "7xQbybT56UVf"
      },
      "outputs": [],
      "source": [
        "def plot():\n",
        "    fig, ax = plt.subplots(3, 1)\n",
        "    for i in range(3):\n",
        "        with torch.inference_mode():\n",
        "            spec, spec_lengths, _ = tacotron2.infer(processed, lengths)\n",
        "        print(spec[0].shape)\n",
        "        ax[i].imshow(spec[0].cpu().detach(), origin=\"lower\", aspect=\"auto\")\n",
        "\n",
        "\n",
        "plot()"
      ]
    },
    {
      "cell_type": "markdown",
      "metadata": {
        "id": "Dpm67e6W6UVg"
      },
      "source": [
        "## Waveform Generation\n",
        "\n",
        "Once the spectrogram is generated, the last process is to recover the\n",
        "waveform from the spectrogram.\n",
        "\n",
        "``torchaudio`` provides vocoders based on ``GriffinLim`` and\n",
        "``WaveRNN``.\n",
        "\n",
        "\n"
      ]
    },
    {
      "cell_type": "markdown",
      "metadata": {
        "id": "rWyJxIGC6UVg"
      },
      "source": [
        "### WaveRNN\n",
        "\n",
        "Continuing from the previous section, we can instantiate the matching\n",
        "WaveRNN model from the same bundle.\n",
        "\n",
        "\n"
      ]
    },
    {
      "cell_type": "code",
      "execution_count": null,
      "metadata": {
        "id": "YJQw89ot6UVg"
      },
      "outputs": [],
      "source": [
        "bundle = torchaudio.pipelines.TACOTRON2_WAVERNN_PHONE_LJSPEECH\n",
        "\n",
        "processor = bundle.get_text_processor()\n",
        "tacotron2 = bundle.get_tacotron2().to(device)\n",
        "vocoder = bundle.get_vocoder().to(device)\n",
        "\n",
        "text = \"Hello world! Text to speech!\"\n",
        "\n",
        "with torch.inference_mode():\n",
        "    processed, lengths = processor(text)\n",
        "    processed = processed.to(device)\n",
        "    lengths = lengths.to(device)\n",
        "    spec, spec_lengths, _ = tacotron2.infer(processed, lengths)\n",
        "    waveforms, lengths = vocoder(spec, spec_lengths)"
      ]
    },
    {
      "cell_type": "code",
      "execution_count": null,
      "metadata": {
        "id": "aUglObLi6UVg"
      },
      "outputs": [],
      "source": [
        "def plot(waveforms, spec, sample_rate):\n",
        "    waveforms = waveforms.cpu().detach()\n",
        "\n",
        "    fig, [ax1, ax2] = plt.subplots(2, 1)\n",
        "    ax1.plot(waveforms[0])\n",
        "    ax1.set_xlim(0, waveforms.size(-1))\n",
        "    ax1.grid(True)\n",
        "    ax2.imshow(spec[0].cpu().detach(), origin=\"lower\", aspect=\"auto\")\n",
        "    return IPython.display.Audio(waveforms[0:1], rate=sample_rate)\n",
        "\n",
        "\n",
        "plot(waveforms, spec, vocoder.sample_rate)"
      ]
    },
    {
      "cell_type": "markdown",
      "metadata": {
        "id": "6oqAyVUs6UVg"
      },
      "source": [
        "### Griffin-Lim\n",
        "\n",
        "Using the Griffin-Lim vocoder is same as WaveRNN. You can instantiate\n",
        "the vocode object with\n",
        ":py:func:`~torchaudio.pipelines.Tacotron2TTSBundle.get_vocoder`\n",
        "method and pass the spectrogram.\n",
        "\n",
        "\n"
      ]
    },
    {
      "cell_type": "code",
      "execution_count": null,
      "metadata": {
        "id": "MxCuJ8gX6UVh"
      },
      "outputs": [],
      "source": [
        "bundle = torchaudio.pipelines.TACOTRON2_GRIFFINLIM_PHONE_LJSPEECH\n",
        "\n",
        "processor = bundle.get_text_processor()\n",
        "tacotron2 = bundle.get_tacotron2().to(device)\n",
        "vocoder = bundle.get_vocoder().to(device)\n",
        "\n",
        "with torch.inference_mode():\n",
        "    processed, lengths = processor(text)\n",
        "    processed = processed.to(device)\n",
        "    lengths = lengths.to(device)\n",
        "    spec, spec_lengths, _ = tacotron2.infer(processed, lengths)\n",
        "waveforms, lengths = vocoder(spec, spec_lengths)"
      ]
    },
    {
      "cell_type": "code",
      "execution_count": null,
      "metadata": {
        "id": "a-6Xo-6p6UVh"
      },
      "outputs": [],
      "source": [
        "plot(waveforms, spec, vocoder.sample_rate)"
      ]
    },
    {
      "cell_type": "markdown",
      "metadata": {
        "id": "YvqawaFK6UVh"
      },
      "source": [
        "### Waveglow\n",
        "\n",
        "Waveglow is a vocoder published by Nvidia. The pretrained weights are\n",
        "published on Torch Hub. One can instantiate the model using ``torch.hub``\n",
        "module.\n",
        "\n",
        "\n"
      ]
    },
    {
      "cell_type": "code",
      "execution_count": null,
      "metadata": {
        "id": "OfIMN5-E6UVh"
      },
      "outputs": [],
      "source": [
        "# Workaround to load model mapped on GPU\n",
        "# https://stackoverflow.com/a/61840832\n",
        "waveglow = torch.hub.load(\n",
        "    \"NVIDIA/DeepLearningExamples:torchhub\",\n",
        "    \"nvidia_waveglow\",\n",
        "    model_math=\"fp32\",\n",
        "    pretrained=False,\n",
        ")\n",
        "checkpoint = torch.hub.load_state_dict_from_url(\n",
        "    \"https://api.ngc.nvidia.com/v2/models/nvidia/waveglowpyt_fp32/versions/1/files/nvidia_waveglowpyt_fp32_20190306.pth\",  # noqa: E501\n",
        "    progress=False,\n",
        "    map_location=device,\n",
        ")\n",
        "state_dict = {key.replace(\"module.\", \"\"): value for key, value in checkpoint[\"state_dict\"].items()}\n",
        "\n",
        "waveglow.load_state_dict(state_dict)\n",
        "waveglow = waveglow.remove_weightnorm(waveglow)\n",
        "waveglow = waveglow.to(device)\n",
        "waveglow.eval()\n",
        "\n",
        "with torch.no_grad():\n",
        "    waveforms = waveglow.infer(spec)"
      ]
    },
    {
      "cell_type": "code",
      "execution_count": null,
      "metadata": {
        "id": "E3aNEm4u6UVi"
      },
      "outputs": [],
      "source": [
        "plot(waveforms, spec, 22050)"
      ]
    }
  ],
  "metadata": {
    "kernelspec": {
      "display_name": "Python 3",
      "language": "python",
      "name": "python3"
    },
    "language_info": {
      "codemirror_mode": {
        "name": "ipython",
        "version": 3
      },
      "file_extension": ".py",
      "mimetype": "text/x-python",
      "name": "python",
      "nbconvert_exporter": "python",
      "pygments_lexer": "ipython3",
      "version": "3.10.13"
    },
    "colab": {
      "provenance": []
    }
  },
  "nbformat": 4,
  "nbformat_minor": 0
}